{
  "nbformat": 4,
  "nbformat_minor": 0,
  "metadata": {
    "colab": {
      "provenance": [],
      "name": "High_Dimensional_Lect_4.ipynb",
      "authorship_tag": "ABX9TyO6HLpn34HAR+A4aE7MUfeW"
    },
    "kernelspec": {
      "name": "ir",
      "display_name": "R"
    },
    "language_info": {
      "name": "R"
    }
  },
  "cells": [
    {
      "cell_type": "code",
      "execution_count": null,
      "metadata": {
        "id": "2pv2bwsG2rZ2",
        "colab": {
          "base_uri": "https://localhost:8080/"
        },
        "outputId": "8fea06eb-73c3-4cdc-f85e-a00f535da11f"
      },
      "outputs": [
        {
          "output_type": "stream",
          "name": "stderr",
          "text": [
            "Warning message:\n",
            "“\u001b[1m\u001b[22m`read_table2()` was deprecated in readr 2.0.0.\n",
            "\u001b[36mℹ\u001b[39m Please use `read_table()` instead.”\n",
            "\n",
            "\u001b[36m──\u001b[39m \u001b[1mColumn specification\u001b[22m \u001b[36m────────────────────────────────────────────────────────\u001b[39m\n",
            "cols(\n",
            "  x = \u001b[32mcol_double()\u001b[39m,\n",
            "  y.yesterday = \u001b[32mcol_double()\u001b[39m,\n",
            "  y.tomorrow = \u001b[32mcol_double()\u001b[39m\n",
            ")\n",
            "\n"
          ]
        }
      ],
      "source": [
        "rm(list=ls())\n",
        "library(readr)\n",
        "df <- read_table2(\"http://azzalini.stat.unipd.it/Book-DM/yesterday.dat\")[-31,]"
      ]
    },
    {
      "cell_type": "code",
      "source": [
        "train <- data.frame(x = df$x, y = df$y.yesterday)\n",
        "n <- nrow(train)\n",
        "# K-fold CV\n",
        "d <- 3\n",
        "K <- 5\n",
        "set.seed(123)\n",
        "# create folds\n",
        "folds <- sample( rep(1:K, length = n) )\n",
        "# initialize vector\n",
        "KCV <- vector()\n",
        "# loop\n",
        "for (k in 1:K){\n",
        "fit   <- lm(y ~ poly(x, degree = d), train, subset = which(folds != k))\n",
        "x.out <- train$x[which(folds == k)]\n",
        "yhat  <- predict(fit, newdata = list(x = x.out))\n",
        "y.out <- train$y[which(folds == k)]\n",
        "KCV[k]<- mean( ( y.out - yhat )^2 )\n",
        "}\n",
        "# KCV estimate\n",
        "mean(KCV)"
      ],
      "metadata": {
        "colab": {
          "base_uri": "https://localhost:8080/",
          "height": 34
        },
        "id": "jYvIw3Cc8UYu",
        "outputId": "e5e11ead-759e-4736-b806-38badf7dc68d"
      },
      "execution_count": null,
      "outputs": [
        {
          "output_type": "display_data",
          "data": {
            "text/html": [
              "0.00031606673123142"
            ],
            "text/markdown": "0.00031606673123142",
            "text/latex": "0.00031606673123142",
            "text/plain": [
              "[1] 0.0003160667"
            ]
          },
          "metadata": {}
        }
      ]
    },
    {
      "cell_type": "code",
      "source": [
        "library(boot)\n",
        "ds <- 1:15\n",
        "ps <- ds+1\n",
        "set.seed(123)\n",
        "KCV <- sapply(ds, function(d)\n",
        "        cv.glm(train, glm(y ~ poly(x, degree = d),\n",
        "        train, family = gaussian), K = K )$delta[1] )\n",
        "plot(ds, KCV, type = \"b\", log = \"y\", xlab = \"d\")"
      ],
      "metadata": {
        "colab": {
          "base_uri": "https://localhost:8080/",
          "height": 437
        },
        "id": "pQK_pxdQ9KtN",
        "outputId": "03a5685a-c329-4db5-a1bb-564a3cdd7e74"
      },
      "execution_count": null,
      "outputs": [
        {
          "output_type": "display_data",
          "data": {
            "text/plain": [
              "plot without title"
            ],
            "image/png": "[encoded data removed]"
          },
          "metadata": {
            "image/png": {
              "width": 420,
              "height": 420
            }
          }
        }
      ]
    },
    {
      "cell_type": "code",
      "source": [
        "ds[which.min(KCV)]"
      ],
      "metadata": {
        "colab": {
          "base_uri": "https://localhost:8080/",
          "height": 34
        },
        "id": "q0D0boX5-VhV",
        "outputId": "35490608-cc1f-48c1-cb0c-331294a6b0a0"
      },
      "execution_count": null,
      "outputs": [
        {
          "output_type": "display_data",
          "data": {
            "text/html": [
              "6"
            ],
            "text/markdown": "6",
            "text/latex": "6",
            "text/plain": [
              "[1] 6"
            ]
          },
          "metadata": {}
        }
      ]
    },
    {
      "cell_type": "code",
      "source": [
        "# LOOCV\n",
        "oneout <- vector()\n",
        "# loop\n",
        "for (i in 1:n){\n",
        "fit_i  <- lm( y ~ poly(x, degree = d), data = train[-i, ])\n",
        "yhat_i <- predict(fit_i, newdata = data.frame(x = train$x[i]) )\n",
        "oneout[i] <- ( train$y[i] -  yhat_i )^2\n",
        "}\n",
        "# LOOCV estimate\n",
        "mean(oneout)"
      ],
      "metadata": {
        "colab": {
          "base_uri": "https://localhost:8080/",
          "height": 34
        },
        "id": "M6ucDM6c-YPd",
        "outputId": "1115bc7d-c412-4b64-abec-5e1f99815884"
      },
      "execution_count": null,
      "outputs": [
        {
          "output_type": "display_data",
          "data": {
            "text/html": [
              "0.000343945808770889"
            ],
            "text/markdown": "0.000343945808770889",
            "text/latex": "0.000343945808770889",
            "text/plain": [
              "[1] 0.0003439458"
            ]
          },
          "metadata": {}
        }
      ]
    },
    {
      "cell_type": "code",
      "source": [
        "fit <-  lm(y ~ poly(x, d), train)\n",
        "# design matrix\n",
        "X <- model.matrix(fit)\n",
        "# hat matrix\n",
        "H <- X %*% solve(t(X) %*% X) %*% t(X)\n",
        "# LOOCV estimate\n",
        "mean(\n",
        "   ( (train$y - predict(fit)) / (1 - diag(H))  )^2\n",
        ")"
      ],
      "metadata": {
        "colab": {
          "base_uri": "https://localhost:8080/",
          "height": 34
        },
        "id": "5zfUbsZQ-ziW",
        "outputId": "af1a4c77-0772-4912-a193-13962c22bc96"
      },
      "execution_count": null,
      "outputs": [
        {
          "output_type": "display_data",
          "data": {
            "text/html": [
              "0.000343945808770886"
            ],
            "text/markdown": "0.000343945808770886",
            "text/latex": "0.000343945808770886",
            "text/plain": [
              "[1] 0.0003439458"
            ]
          },
          "metadata": {}
        }
      ]
    },
    {
      "cell_type": "code",
      "source": [
        "LOOCV <- sapply(ds, function(d)\n",
        "       cv.glm(train, glm(y ~ poly(x, degree = d),\n",
        "       train, family = gaussian) )$delta[1] )\n",
        "plot(ds, LOOCV, type = \"b\", xlab = \"d\")"
      ],
      "metadata": {
        "colab": {
          "base_uri": "https://localhost:8080/",
          "height": 437
        },
        "id": "UB_icwus-0Su",
        "outputId": "4fa4b5cc-a907-4e9d-ffcb-8220b74cd289"
      },
      "execution_count": null,
      "outputs": [
        {
          "output_type": "display_data",
          "data": {
            "text/plain": [
              "plot without title"
            ],
            "image/png": "[encoded data removed]"
          },
          "metadata": {
            "image/png": {
              "width": 420,
              "height": 420
            }
          }
        }
      ]
    },
    {
      "cell_type": "code",
      "source": [
        "ds[which.min(LOOCV)]"
      ],
      "metadata": {
        "colab": {
          "base_uri": "https://localhost:8080/",
          "height": 34
        },
        "id": "AypGvEIZ-3Il",
        "outputId": "021015e3-14fa-439f-db03-8b099cfb8a58"
      },
      "execution_count": null,
      "outputs": [
        {
          "output_type": "display_data",
          "data": {
            "text/html": [
              "6"
            ],
            "text/markdown": "6",
            "text/latex": "6",
            "text/plain": [
              "[1] 6"
            ]
          },
          "metadata": {}
        }
      ]
    },
    {
      "cell_type": "code",
      "source": [
        "fun <- function(d) if (d == 0) lm(y ~ 1, train) else lm(y ~ poly(x, degree = d), train)\n",
        "fits <- lapply(ds, fun)\n",
        "MSEs.tr <- unlist( lapply(fits, deviance) )/n\n",
        "GCV <- MSEs.tr/(1 - (ps)/n )^2\n",
        "plot(ds, GCV, type = \"b\", xlab = \"d\")"
      ],
      "metadata": {
        "colab": {
          "base_uri": "https://localhost:8080/",
          "height": 437
        },
        "id": "K7LazMRw_U5W",
        "outputId": "a3fdc883-8c12-4a3e-ee94-9f95ca9c1ab8"
      },
      "execution_count": null,
      "outputs": [
        {
          "output_type": "display_data",
          "data": {
            "text/plain": [
              "plot without title"
            ],
            "image/png": "[encoded data removed]"
          },
          "metadata": {
            "image/png": {
              "width": 420,
              "height": 420
            }
          }
        }
      ]
    },
    {
      "cell_type": "code",
      "source": [
        "ds[which.min(GCV)]"
      ],
      "metadata": {
        "colab": {
          "base_uri": "https://localhost:8080/",
          "height": 34
        },
        "id": "Z5ckaHdd_X41",
        "outputId": "2fae76b1-7af0-4cb3-e68c-41f7224a655e"
      },
      "execution_count": null,
      "outputs": [
        {
          "output_type": "display_data",
          "data": {
            "text/html": [
              "5"
            ],
            "text/markdown": "5",
            "text/latex": "5",
            "text/plain": [
              "[1] 5"
            ]
          },
          "metadata": {}
        }
      ]
    }
  ]
}